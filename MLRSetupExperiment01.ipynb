{
 "metadata": {
  "name": "",
  "signature": "sha256:3e5728d016d46934420c9d55aaec02264d7c7d9daf094abd9370a1da6b215b34"
 },
 "nbformat": 3,
 "nbformat_minor": 0,
 "worksheets": [
  {
   "cells": [
    {
     "cell_type": "heading",
     "level": 3,
     "metadata": {},
     "source": [
      "Import Libraries"
     ]
    },
    {
     "cell_type": "code",
     "collapsed": false,
     "input": [
      "from __future__ import print_function\n",
      "import mysql.connector"
     ],
     "language": "python",
     "metadata": {},
     "outputs": [],
     "prompt_number": 1
    },
    {
     "cell_type": "heading",
     "level": 3,
     "metadata": {},
     "source": [
      "Database Connection Information"
     ]
    },
    {
     "cell_type": "code",
     "collapsed": false,
     "input": [
      "# Specify database connection information ONCE here. Use the variables where needed.\n",
      "\n",
      "mydbuser = 'root'\n",
      "mydbpassword = ''\n",
      "mydbhost = '127.0.0.1'\n",
      "mydatabase = 'mlr'"
     ],
     "language": "python",
     "metadata": {},
     "outputs": [],
     "prompt_number": 2
    },
    {
     "cell_type": "heading",
     "level": 1,
     "metadata": {},
     "source": [
      "Prepare Test Data for Experiment 01"
     ]
    },
    {
     "cell_type": "heading",
     "level": 3,
     "metadata": {},
     "source": [
      "Count the Users"
     ]
    },
    {
     "cell_type": "code",
     "collapsed": false,
     "input": [
      "# Connect to database.\n",
      "\n",
      "cnx = mysql.connector.connect(user=mydbuser, \n",
      "                              password=mydbpassword,\n",
      "                              host=mydbhost,\n",
      "                              database=mydatabase)\n",
      "\n",
      "# Create the cursor.\n",
      "\n",
      "cursor = cnx.cursor()\n",
      "\n",
      "# Create the query.\n",
      "\n",
      "query = (\"SELECT COUNT(*) FROM users ORDER BY rand();\")\n",
      "\n",
      "# Execute the query.\n",
      "\n",
      "cursor.execute(query)\n",
      "\n",
      "# Capture the results.\n",
      "\n",
      "result = cursor.fetchall()\n",
      "\n",
      "# Use the results.\n",
      "\n",
      "for row in result:\n",
      "    usercount = row[0]\n",
      "    print('There are ' + str(usercount) + ' users in the table.')\n",
      "    \n",
      "# Close the cursor and connection.\n",
      "\n",
      "cursor.close()\n",
      "cnx.close()"
     ],
     "language": "python",
     "metadata": {},
     "outputs": [
      {
       "output_type": "stream",
       "stream": "stdout",
       "text": [
        "There are 138493 users in the table.\n"
       ]
      }
     ],
     "prompt_number": 3
    },
    {
     "cell_type": "heading",
     "level": 3,
     "metadata": {},
     "source": [
      "Calculate Number of Users for Testing"
     ]
    },
    {
     "cell_type": "code",
     "collapsed": false,
     "input": [
      "# As per example in literature, use 10% of users as test users.\n",
      "\n",
      "numbertestusers = usercount * 0.1\n",
      "numbertestusers = int(round(numbertestusers))\n",
      "print (str(numbertestusers))"
     ],
     "language": "python",
     "metadata": {},
     "outputs": [
      {
       "output_type": "stream",
       "stream": "stdout",
       "text": [
        "13849\n"
       ]
      }
     ],
     "prompt_number": 4
    },
    {
     "cell_type": "heading",
     "level": 3,
     "metadata": {},
     "source": [
      "Randomly Select Test Users"
     ]
    },
    {
     "cell_type": "code",
     "collapsed": false,
     "input": [
      "# Randomly select the number of users as determined above.\n",
      "\n",
      "# Connect to database.\n",
      "\n",
      "cnx = mysql.connector.connect(user=mydbuser, \n",
      "                              password=mydbpassword,\n",
      "                              host=mydbhost,\n",
      "                              database=mydatabase)\n",
      "\n",
      "# Create the cursor.\n",
      "\n",
      "cursor = cnx.cursor()\n",
      "\n",
      "# Create the query.\n",
      "\n",
      "query = (\"SELECT userId FROM users ORDER BY rand() LIMIT \" + str(numbertestusers) + \";\")\n",
      "\n",
      "# Execute the query.\n",
      "\n",
      "cursor.execute(query)\n",
      "\n",
      "# Capture the results.\n",
      "\n",
      "result = cursor.fetchall()\n",
      "\n",
      "# Use the results.\n",
      "\n",
      "testusers = [] # Initialize a list.\n",
      "\n",
      "# Add the userIds to the list.\n",
      "\n",
      "for row in result:\n",
      "    testusers.append(row[0])\n",
      "\n",
      "# Close the cursor and connection.\n",
      "\n",
      "cursor.close()\n",
      "cnx.close()\n",
      "\n",
      "print (str(len(testusers)) + \" test users have been added to the test user list.\") # Should be 13849."
     ],
     "language": "python",
     "metadata": {},
     "outputs": [
      {
       "output_type": "stream",
       "stream": "stdout",
       "text": [
        "13849 test users have been added to the test user list.\n"
       ]
      }
     ],
     "prompt_number": 5
    },
    {
     "cell_type": "heading",
     "level": 3,
     "metadata": {},
     "source": [
      "Randomly Select 5 Movies per Test User and Load userId-movieId Pairs into a List"
     ]
    },
    {
     "cell_type": "code",
     "collapsed": false,
     "input": [
      "# Randomly select 5 rated movies for each of the selected test users.\n",
      "\n",
      "mytestdata =[] # Initialize a list to hold userId paired with 5 random movieId values.\n",
      "\n",
      "# Connect to database.\n",
      "\n",
      "cnx = mysql.connector.connect(user=mydbuser, \n",
      "                              password=mydbpassword,\n",
      "                              host=mydbhost,\n",
      "                              database=mydatabase)\n",
      "\n",
      "for testuser in testusers:\n",
      "    \n",
      "    # Create the cursor.\n",
      "\n",
      "    cursor = cnx.cursor()\n",
      "\n",
      "    # Create the query.\n",
      "\n",
      "    query = (\"SELECT userId, movieId FROM ratings WHERE userId=\" + str(testuser) + \" ORDER BY rand() LIMIT 5\")\n",
      "\n",
      "    # Execute the query.\n",
      "\n",
      "    cursor.execute(query)\n",
      "\n",
      "    # Capture the results.\n",
      "\n",
      "    result = cursor.fetchall()\n",
      "\n",
      "    # Use the results by adding userId-movieId pairs to mytestdata array.\n",
      "\n",
      "    for row in result:\n",
      "        mytestdata.append(row)\n",
      "\n",
      "    # Close the cursor.\n",
      "\n",
      "    cursor.close()\n",
      "    \n",
      "# Close the connection\n",
      "\n",
      "cnx.close()\n",
      "    \n",
      "# Count the records in mytestdata.\n",
      "print (str(len(mytestdata)) + \" test cases are in mytestdata.\") # Should be 13849 x 5 = 69245."
     ],
     "language": "python",
     "metadata": {},
     "outputs": [
      {
       "output_type": "stream",
       "stream": "stdout",
       "text": [
        "69245 test cases are in mytestdata.\n"
       ]
      }
     ],
     "prompt_number": 6
    },
    {
     "cell_type": "heading",
     "level": 3,
     "metadata": {},
     "source": [
      "Complete Test Data Set and Experiment Setup"
     ]
    },
    {
     "cell_type": "code",
     "collapsed": false,
     "input": [
      "# *** DISABLED *** This is a run once block of code. Ignore errors that follow, if these steps have already been\n",
      "#                  completed and the lines below have been disabled with comments.\n",
      "\n",
      "# This step will do the following:\n",
      "#\n",
      "# 1. Add the userId-movieId pairs to the exp01 table. This table tracks the performance of the recommender system\n",
      "#    for this experiment.\n",
      "# 2. Set the values of the testrate01 field in the ratings table to NULL for the same userId-movieId pairs.\n",
      "#    This will provide the unknown rating values we wish to predict.\n",
      "\n",
      "\n",
      "# Connect to database.\n",
      "\n",
      "cnx = mysql.connector.connect(user=mydbuser, \n",
      "                              password=mydbpassword,\n",
      "                              host=mydbhost,\n",
      "                              database=mydatabase)\n",
      "\n",
      "# Start by looping through each row in the userId-movieId list created in previous step.\n",
      "\n",
      "for row in mytestdata:\n",
      "    \n",
      "    # Task 1: Insert into the exp01 table.\n",
      "\n",
      "    # Create the cursor.\n",
      "\n",
      "    cursor = cnx.cursor()\n",
      "\n",
      "    # Create the query to insert userId & movieId into exp01 table.\n",
      "    \n",
      "    add_exp01 = (\"INSERT INTO exp01 (userId, movieId) VALUES (\" + str(row[0]) + \", \" + str(row[1]) + \")\")\n",
      "    \n",
      "    # Execute the first query.\n",
      "\n",
      "#    cursor.execute(add_exp01) # Comment line to protect from overwritting database content.\n",
      "    \n",
      "    # Make sure data is committed to the database\n",
      "    \n",
      "#    cnx.commit() # Comment line to protect from overwritting database content.    \n",
      "\n",
      "    # Close the cursor.\n",
      "\n",
      "    cursor.close()\n",
      "\n",
      "    \n",
      "    # Task 2: Set values of testrate01 in ratings to NULL.\n",
      "    \n",
      "    # Create the cursor.\n",
      "\n",
      "    cursor = cnx.cursor()\n",
      "\n",
      "    # Create the query to set testrate01 to null where userId & movieId equal current values.\n",
      "    \n",
      "    update_ratings = (\"UPDATE ratings SET testrate01=NULL \"\n",
      "                      \"WHERE userId=\" + str(row[0]) + \" AND movieId=\" + str(row[1]))\n",
      "    \n",
      "    # Execute the second query.\n",
      "\n",
      "#    cursor.execute(update_ratings) # Comment line to protect from overwritting database content.\n",
      "    \n",
      "    # Make sure data is committed to the database\n",
      "    \n",
      "#    cnx.commit() # Comment line to protect from overwritting database content.  \n",
      "\n",
      "\n",
      "    # Close the cursor.\n",
      "    \n",
      "    cursor.close()\n",
      "\n",
      "# Close the connection\n",
      "\n",
      "cnx.close()\n",
      "    \n",
      "# Then run the last SQL query in section 2 \"Create Addtional Tables to Hold Experiment Results\"  (in the scripts file) \n",
      "# directly in MySQL. That will copy the rating values over to exp01 from ratings."
     ],
     "language": "python",
     "metadata": {},
     "outputs": [],
     "prompt_number": 7
    },
    {
     "cell_type": "heading",
     "level": 3,
     "metadata": {},
     "source": [
      "Verify Dataset"
     ]
    },
    {
     "cell_type": "code",
     "collapsed": false,
     "input": [
      "# Verify dataset.\n",
      "\n",
      "# Connect to database.\n",
      "\n",
      "cnx = mysql.connector.connect(user=mydbuser, \n",
      "                              password=mydbpassword,\n",
      "                              host=mydbhost,\n",
      "                              database=mydatabase)\n",
      "\n",
      "# Create the cursor.\n",
      "\n",
      "cursor = cnx.cursor()\n",
      "\n",
      "# Create the query.\n",
      "\n",
      "query = (\"SELECT * FROM exp01 ORDER BY userId,movieId LIMIT 50;\")\n",
      "\n",
      "# Execute the query.\n",
      "\n",
      "cursor.execute(query)\n",
      "\n",
      "# Capture the results.\n",
      "\n",
      "result = cursor.fetchall()\n",
      "\n",
      "# Use the results.\n",
      "\n",
      "for row in result:\n",
      "    print(\"User \" + str(row[0]) + \" rated movie \" + str(row[1]) + \" \" + str(row[2]) + \". Predicted was \" + str(row[3]) + \".\")\n",
      "\n",
      "# Close the cursor and connection.\n",
      "\n",
      "cursor.close()\n",
      "cnx.close()\n",
      "\n",
      "# Should be 50 ratings for 10 users."
     ],
     "language": "python",
     "metadata": {},
     "outputs": [
      {
       "output_type": "stream",
       "stream": "stdout",
       "text": [
        "User 8 rated movie 3 5.0. Predicted was None.\n",
        "User 8 rated movie 185 2.0. Predicted was None.\n",
        "User 8 rated movie 380 4.0. Predicted was None.\n",
        "User 8 rated movie 527 5.0. Predicted was None.\n",
        "User 8 rated movie 648 5.0. Predicted was None.\n",
        "User 11 rated movie 153 3.5. Predicted was None.\n",
        "User 11 rated movie 4232 2.5. Predicted was None.\n",
        "User 11 rated movie 6283 2.5. Predicted was None.\n",
        "User 11 rated movie 8640 4.0. Predicted was None.\n",
        "User 11 rated movie 56251 3.0. Predicted was None.\n",
        "User 15 rated movie 11 3.0. Predicted was None.\n",
        "User 15 rated movie 50 3.0. Predicted was None.\n",
        "User 15 rated movie 515 4.0. Predicted was None.\n",
        "User 15 rated movie 527 5.0. Predicted was None.\n",
        "User 15 rated movie 594 4.0. Predicted was None.\n",
        "User 19 rated movie 101 3.0. Predicted was None.\n",
        "User 19 rated movie 141 5.0. Predicted was None.\n",
        "User 19 rated movie 780 4.0. Predicted was None.\n",
        "User 19 rated movie 802 4.0. Predicted was None.\n",
        "User 19 rated movie 880 3.0. Predicted was None.\n",
        "User 27 rated movie 11 4.0. Predicted was None.\n",
        "User 27 rated movie 3508 4.5. Predicted was None.\n",
        "User 27 rated movie 4367 1.0. Predicted was None.\n",
        "User 27 rated movie 27808 4.0. Predicted was None.\n",
        "User 27 rated movie 30822 4.0. Predicted was None.\n",
        "User 39 rated movie 32 3.0. Predicted was None.\n",
        "User 39 rated movie 95 4.0. Predicted was None.\n",
        "User 39 rated movie 112 2.0. Predicted was None.\n",
        "User 39 rated movie 736 3.0. Predicted was None.\n",
        "User 39 rated movie 1073 3.0. Predicted was None.\n",
        "User 54 rated movie 435 3.0. Predicted was None.\n",
        "User 54 rated movie 1196 4.0. Predicted was None.\n",
        "User 54 rated movie 1207 4.0. Predicted was None.\n",
        "User 54 rated movie 2468 2.0. Predicted was None.\n",
        "User 54 rated movie 2942 4.0. Predicted was None.\n",
        "User 70 rated movie 89 3.0. Predicted was None.\n",
        "User 70 rated movie 110 3.0. Predicted was None.\n",
        "User 70 rated movie 1100 1.0. Predicted was None.\n",
        "User 70 rated movie 1263 3.0. Predicted was None.\n",
        "User 70 rated movie 2890 3.0. Predicted was None.\n",
        "User 80 rated movie 608 4.0. Predicted was None.\n",
        "User 80 rated movie 1059 4.0. Predicted was None.\n",
        "User 80 rated movie 1073 4.0. Predicted was None.\n",
        "User 80 rated movie 1210 5.0. Predicted was None.\n",
        "User 80 rated movie 1405 3.0. Predicted was None.\n",
        "User 89 rated movie 318 5.0. Predicted was None.\n",
        "User 89 rated movie 2188 3.0. Predicted was None.\n",
        "User 89 rated movie 3176 4.0. Predicted was None.\n",
        "User 89 rated movie 3863 3.0. Predicted was None.\n",
        "User 89 rated movie 4270 3.0. Predicted was None.\n"
       ]
      }
     ],
     "prompt_number": 8
    },
    {
     "cell_type": "code",
     "collapsed": false,
     "input": [
      "# Can also verify directly in MySQL with these additional queries:\n",
      "\n",
      "# SELECT COUNT(*) FROM exp01; # Should be 69245\n",
      "# SELECT COUNT(*) FROM ratings WHERE testrate01 IS NULL; # Should also be 69245\n",
      "\n",
      "# The \"Predicted was None.\" text above is the inital state for recommender - these values will be predicted in another script."
     ],
     "language": "python",
     "metadata": {},
     "outputs": [],
     "prompt_number": 9
    }
   ],
   "metadata": {}
  }
 ]
}