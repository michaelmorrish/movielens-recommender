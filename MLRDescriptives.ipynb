{
 "metadata": {
  "name": "",
  "signature": "sha256:fa2497c7475d560a0f5f235048cf594717a053f87beff09827362fc490426d8c"
 },
 "nbformat": 3,
 "nbformat_minor": 0,
 "worksheets": [
  {
   "cells": [
    {
     "cell_type": "heading",
     "level": 3,
     "metadata": {},
     "source": [
      "Import Libraries"
     ]
    },
    {
     "cell_type": "code",
     "collapsed": false,
     "input": [
      "import mysql.connector\n",
      "import numpy as np\n",
      "import matplotlib.pyplot as plt"
     ],
     "language": "python",
     "metadata": {},
     "outputs": [],
     "prompt_number": 1
    },
    {
     "cell_type": "heading",
     "level": 3,
     "metadata": {},
     "source": [
      "Database Connection Information"
     ]
    },
    {
     "cell_type": "code",
     "collapsed": false,
     "input": [
      "# Specify database connection information ONCE here. Use the variables where needed.\n",
      "\n",
      "mydbuser = 'root'\n",
      "mydbpassword = '' # Put your own password here.\n",
      "mydbhost = '127.0.0.1'\n",
      "mydatabase = 'mlr'"
     ],
     "language": "python",
     "metadata": {},
     "outputs": [],
     "prompt_number": 2
    },
    {
     "cell_type": "heading",
     "level": 1,
     "metadata": {},
     "source": [
      "Create Histogram of User Ratings"
     ]
    },
    {
     "cell_type": "code",
     "collapsed": false,
     "input": [
      "# Connect to database.\n",
      "\n",
      "cnx = mysql.connector.connect(user=mydbuser, \n",
      "                              password=mydbpassword,\n",
      "                              host=mydbhost,\n",
      "                              database=mydatabase)\n",
      "\n",
      "# Create the cursor.\n",
      "\n",
      "cursor = cnx.cursor()\n",
      "\n",
      "# Create the query.\n",
      "\n",
      "query = (\"SELECT rating FROM ratings;\")\n",
      "\n",
      "# Execute the query.\n",
      "\n",
      "cursor.execute(query)\n",
      "\n",
      "# Capture the results.\n",
      "\n",
      "result = cursor.fetchall()\n",
      "\n",
      "# Use the results.\n",
      "\n",
      "myRatings = [] # Initialize a list for rating values.\n",
      "\n",
      "for row in result:\n",
      "    myRatings.append(float(row[0]))\n",
      "    \n",
      "# Close the cursor and connection.\n",
      "\n",
      "cursor.close()\n",
      "cnx.close()\n",
      "\n",
      "plt.hist(myRatings, 10, histtype='stepfilled', align='mid', color='g', label='Movie Ratings')\n",
      "plt.legend()\n",
      "plt.title('Histogram of User Ratings for MovieLens Data')\n",
      "plt.show()"
     ],
     "language": "python",
     "metadata": {},
     "outputs": [],
     "prompt_number": 3
    },
    {
     "cell_type": "code",
     "collapsed": false,
     "input": [],
     "language": "python",
     "metadata": {},
     "outputs": []
    }
   ],
   "metadata": {}
  }
 ]
}